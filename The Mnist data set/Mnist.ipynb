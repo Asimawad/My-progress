{
 "cells": [
  {
   "cell_type": "code",
   "execution_count": 1,
   "id": "9ccbca73",
   "metadata": {},
   "outputs": [],
   "source": [
    "import tensorflow as tf\n",
    "import tensorflow_datasets as tfds"
   ]
  },
  {
   "cell_type": "code",
   "execution_count": 2,
   "id": "09abbcae",
   "metadata": {},
   "outputs": [],
   "source": [
    "BUFFER_SIZE = 70_000\n",
    "BATCH_SIZE = 128\n",
    "NUM_EPOCHS = 20\n"
   ]
  },
  {
   "cell_type": "code",
   "execution_count": 3,
   "id": "f1967015",
   "metadata": {
    "scrolled": true
   },
   "outputs": [
    {
     "name": "stderr",
     "output_type": "stream",
     "text": [
      "WARNING:absl:Found a different version 3.0.1 of dataset mnist in data_dir C:\\Users\\LENOVO\\tensorflow_datasets. Using currently defined version 1.0.0.\n",
      "WARNING:absl:Warning: Setting shuffle_files=True because split=TRAIN and shuffle_files=None. This behavior will be deprecated on 2019-08-06, at which point shuffle_files=False will be the default for all splits.\n"
     ]
    }
   ],
   "source": [
    "mnist_dataset,mnist_info = tfds.load(name ='mnist' , with_info =True , as_supervised = True )"
   ]
  },
  {
   "cell_type": "code",
   "execution_count": 4,
   "id": "ae640f05",
   "metadata": {},
   "outputs": [],
   "source": [
    "mnist_train ,mnist_test = mnist_dataset['train'] , mnist_dataset['test']"
   ]
  },
  {
   "cell_type": "markdown",
   "id": "b2b8b44f",
   "metadata": {},
   "source": [
    "mnist_info"
   ]
  },
  {
   "cell_type": "code",
   "execution_count": 5,
   "id": "a5a6c3c9",
   "metadata": {},
   "outputs": [
    {
     "data": {
      "text/plain": [
       "tfds.core.DatasetInfo(\n",
       "    name='mnist',\n",
       "    version=1.0.0,\n",
       "    description='The MNIST database of handwritten digits.',\n",
       "    urls=['https://storage.googleapis.com/cvdf-datasets/mnist/'],\n",
       "    features=FeaturesDict({\n",
       "        'image': Image(shape=(28, 28, 1), dtype=tf.uint8),\n",
       "        'label': ClassLabel(shape=(), dtype=tf.int64, num_classes=10),\n",
       "    }),\n",
       "    total_num_examples=70000,\n",
       "    splits={\n",
       "        'test': 10000,\n",
       "        'train': 60000,\n",
       "    },\n",
       "    supervised_keys=('image', 'label'),\n",
       "    citation=\"\"\"@article{lecun2010mnist,\n",
       "      title={MNIST handwritten digit database},\n",
       "      author={LeCun, Yann and Cortes, Corinna and Burges, CJ},\n",
       "      journal={ATT Labs [Online]. Available: http://yann. lecun. com/exdb/mnist},\n",
       "      volume={2},\n",
       "      year={2010}\n",
       "    }\"\"\",\n",
       "    redistribution_info=,\n",
       ")"
      ]
     },
     "execution_count": 5,
     "metadata": {},
     "output_type": "execute_result"
    }
   ],
   "source": [
    "mnist_info"
   ]
  },
  {
   "cell_type": "code",
   "execution_count": 6,
   "id": "6474d608",
   "metadata": {},
   "outputs": [],
   "source": [
    "def scale(image , label):\n",
    "    image = tf.cast(image , tf.float32)\n",
    "    image/=256.\n",
    "    return image , label"
   ]
  },
  {
   "cell_type": "code",
   "execution_count": 7,
   "id": "6caa50cf",
   "metadata": {},
   "outputs": [],
   "source": [
    "train_and_validation = mnist_train.map(scale)\n",
    "test = mnist_test.map(scale)"
   ]
  },
  {
   "cell_type": "code",
   "execution_count": 8,
   "id": "f05e786e",
   "metadata": {},
   "outputs": [],
   "source": [
    "num_validation_samples = 0.1 * mnist_info.splits['train'].num_examples\n",
    "num_validation_samples = tf.cast(num_validation_samples , tf.int64)"
   ]
  },
  {
   "cell_type": "code",
   "execution_count": 9,
   "id": "6b9f3a1c",
   "metadata": {},
   "outputs": [],
   "source": [
    "num_test_samples = 0.1 * mnist_info.splits['test'].num_examples\n",
    "num_test_samples = tf.cast(num_test_samples , tf.int64)"
   ]
  },
  {
   "cell_type": "code",
   "execution_count": 10,
   "id": "00597e54",
   "metadata": {},
   "outputs": [],
   "source": [
    "train_and_validation =train_and_validation.shuffle(BUFFER_SIZE)"
   ]
  },
  {
   "cell_type": "code",
   "execution_count": 11,
   "id": "cdf7a524",
   "metadata": {},
   "outputs": [],
   "source": [
    "train_data =train_and_validation.skip(num_validation_samples)\n",
    "validation_data =train_and_validation.take(num_validation_samples)"
   ]
  },
  {
   "cell_type": "code",
   "execution_count": 12,
   "id": "50a34247",
   "metadata": {},
   "outputs": [],
   "source": [
    "train_data =train_data.batch(BATCH_SIZE)\n",
    "validation_data =validation_data.batch(BATCH_SIZE)\n",
    "test_data = test.batch(BATCH_SIZE)"
   ]
  },
  {
   "cell_type": "markdown",
   "id": "26ef2d44",
   "metadata": {},
   "source": [
    "## create the model and training it"
   ]
  },
  {
   "cell_type": "code",
   "execution_count": 13,
   "id": "6ed4bc84",
   "metadata": {},
   "outputs": [
    {
     "name": "stdout",
     "output_type": "stream",
     "text": [
      "Requirement already satisfied: keras in c:\\users\\lenovo\\anaconda3\\envs\\pytorch\\lib\\site-packages (2.8.0)\n",
      "Note: you may need to restart the kernel to use updated packages.\n"
     ]
    }
   ],
   "source": [
    "pip install keras"
   ]
  },
  {
   "cell_type": "code",
   "execution_count": 16,
   "id": "eede904f",
   "metadata": {},
   "outputs": [],
   "source": [
    "# Outlining the model/architecture of our CNN\n",
    "# CONV -> MAXPOOL -> CONV -> MAXPOOL -> FLATTEN -> DENSE\n",
    "model = tf.keras.Sequential([\n",
    "    tf.keras.layers.Conv2D(50, 5, activation='relu', input_shape=(28, 28, 1)),\n",
    "    tf.keras.layers.MaxPooling2D(pool_size=(2,2)), \n",
    "    # (2,2) is the default pool size so we could have just used MaxPooling2D() with no explicit arguments\n",
    "    tf.keras.layers.Conv2D(50, 3, activation='relu'),\n",
    "    tf.keras.layers.MaxPooling2D(pool_size=(2,2)), \n",
    "    tf.keras.layers.Flatten(),\n",
    "    tf.keras.layers.Dense(10) # You can apply softmax activation here, see below for comentary\n",
    "])"
   ]
  },
  {
   "cell_type": "code",
   "execution_count": 17,
   "id": "509864c7",
   "metadata": {},
   "outputs": [
    {
     "name": "stdout",
     "output_type": "stream",
     "text": [
      "Model: \"sequential\"\n",
      "___________________________________________________________________________\n",
      "Layer (type)                     Output Shape                  Param #     \n",
      "===========================================================================\n",
      "conv2d (Conv2D)                  (None, 24, 24, 50)            1300        \n",
      "___________________________________________________________________________\n",
      "max_pooling2d (MaxPooling2D)     (None, 12, 12, 50)            0           \n",
      "___________________________________________________________________________\n",
      "conv2d_1 (Conv2D)                (None, 10, 10, 50)            22550       \n",
      "___________________________________________________________________________\n",
      "max_pooling2d_1 (MaxPooling2D)   (None, 5, 5, 50)              0           \n",
      "___________________________________________________________________________\n",
      "flatten (Flatten)                (None, 1250)                  0           \n",
      "___________________________________________________________________________\n",
      "dense (Dense)                    (None, 10)                    12510       \n",
      "===========================================================================\n",
      "Total params: 36,360\n",
      "Trainable params: 36,360\n",
      "Non-trainable params: 0\n",
      "___________________________________________________________________________\n"
     ]
    }
   ],
   "source": [
    "model.summary(line_length =75)"
   ]
  },
  {
   "cell_type": "code",
   "execution_count": 18,
   "id": "d1e8a04f",
   "metadata": {},
   "outputs": [],
   "source": [
    "loss_fn = tf.keras.losses.SparseCategoricalCrossentropy(from_logits=True)"
   ]
  },
  {
   "cell_type": "code",
   "execution_count": 19,
   "id": "0b298ef9",
   "metadata": {},
   "outputs": [],
   "source": [
    "model.compile(optimizer='adam' , loss=loss_fn , metrics = ['accuracy'])"
   ]
  },
  {
   "cell_type": "code",
   "execution_count": 20,
   "id": "1ca626b3",
   "metadata": {},
   "outputs": [],
   "source": [
    "early_stopping = tf.keras.callbacks.EarlyStopping(\n",
    "    monitor= 'val_loss',\n",
    "    mode  = 'auto',\n",
    "    min_delta = 0 ,\n",
    "    patience = 2 ,\n",
    "    verbose = 0 ,\n",
    "    restore_best_weights = True,\n",
    "\n",
    ")"
   ]
  },
  {
   "cell_type": "code",
   "execution_count": 21,
   "id": "bbab7223",
   "metadata": {},
   "outputs": [
    {
     "name": "stdout",
     "output_type": "stream",
     "text": [
      "Epoch 1/20\n",
      "422/422 - 31s - loss: 0.2744 - accuracy: 0.9216 - val_loss: 0.0868 - val_accuracy: 0.9760\n",
      "Epoch 2/20\n",
      "422/422 - 30s - loss: 0.0718 - accuracy: 0.9787 - val_loss: 0.0574 - val_accuracy: 0.9818\n",
      "Epoch 3/20\n",
      "422/422 - 29s - loss: 0.0526 - accuracy: 0.9839 - val_loss: 0.0433 - val_accuracy: 0.9885\n",
      "Epoch 4/20\n",
      "422/422 - 28s - loss: 0.0437 - accuracy: 0.9866 - val_loss: 0.0425 - val_accuracy: 0.9870\n",
      "Epoch 5/20\n",
      "422/422 - 27s - loss: 0.0381 - accuracy: 0.9881 - val_loss: 0.0315 - val_accuracy: 0.9888\n",
      "Epoch 6/20\n",
      "422/422 - 33s - loss: 0.0317 - accuracy: 0.9905 - val_loss: 0.0225 - val_accuracy: 0.9932\n",
      "Epoch 7/20\n",
      "422/422 - 34s - loss: 0.0297 - accuracy: 0.9906 - val_loss: 0.0187 - val_accuracy: 0.9943\n",
      "Epoch 8/20\n",
      "422/422 - 35s - loss: 0.0253 - accuracy: 0.9917 - val_loss: 0.0323 - val_accuracy: 0.9917\n",
      "Epoch 9/20\n",
      "422/422 - 36s - loss: 0.0235 - accuracy: 0.9926 - val_loss: 0.0156 - val_accuracy: 0.9955\n",
      "Epoch 10/20\n",
      "422/422 - 33s - loss: 0.0194 - accuracy: 0.9941 - val_loss: 0.0126 - val_accuracy: 0.9958\n",
      "Epoch 11/20\n",
      "422/422 - 33s - loss: 0.0169 - accuracy: 0.9946 - val_loss: 0.0122 - val_accuracy: 0.9963\n",
      "Epoch 12/20\n",
      "422/422 - 34s - loss: 0.0158 - accuracy: 0.9952 - val_loss: 0.0109 - val_accuracy: 0.9975\n",
      "Epoch 13/20\n",
      "422/422 - 33s - loss: 0.0136 - accuracy: 0.9960 - val_loss: 0.0098 - val_accuracy: 0.9972\n",
      "Epoch 14/20\n",
      "422/422 - 32s - loss: 0.0112 - accuracy: 0.9965 - val_loss: 0.0094 - val_accuracy: 0.9968\n",
      "Epoch 15/20\n",
      "422/422 - 32s - loss: 0.0106 - accuracy: 0.9965 - val_loss: 0.0069 - val_accuracy: 0.9982\n",
      "Epoch 16/20\n",
      "422/422 - 33s - loss: 0.0105 - accuracy: 0.9968 - val_loss: 0.0065 - val_accuracy: 0.9983\n",
      "Epoch 17/20\n",
      "422/422 - 34s - loss: 0.0089 - accuracy: 0.9970 - val_loss: 0.0046 - val_accuracy: 0.9983\n",
      "Epoch 18/20\n",
      "422/422 - 32s - loss: 0.0066 - accuracy: 0.9981 - val_loss: 0.0035 - val_accuracy: 0.9993\n",
      "Epoch 19/20\n",
      "422/422 - 33s - loss: 0.0064 - accuracy: 0.9983 - val_loss: 0.0042 - val_accuracy: 0.9983\n",
      "Epoch 20/20\n",
      "422/422 - 35s - loss: 0.0065 - accuracy: 0.9978 - val_loss: 0.0043 - val_accuracy: 0.9983\n"
     ]
    },
    {
     "data": {
      "text/plain": [
       "<tensorflow.python.keras.callbacks.History at 0x19d4cd2c970>"
      ]
     },
     "execution_count": 21,
     "metadata": {},
     "output_type": "execute_result"
    }
   ],
   "source": [
    "model.fit(\n",
    "train_data , epochs = NUM_EPOCHS , callbacks = [early_stopping]  ,\n",
    "validation_data = validation_data\n",
    "    ,verbose =2\n",
    ")"
   ]
  },
  {
   "cell_type": "markdown",
   "id": "c5148d71",
   "metadata": {},
   "source": [
    "## Testing our model"
   ]
  },
  {
   "cell_type": "code",
   "execution_count": 22,
   "id": "9c6fb12c",
   "metadata": {},
   "outputs": [
    {
     "name": "stdout",
     "output_type": "stream",
     "text": [
      "79/79 [==============================] - 2s 24ms/step - loss: 0.0367 - accuracy: 0.9901\n"
     ]
    }
   ],
   "source": [
    "#use evaluate method\n",
    "test_loss , test_accuracy = model.evaluate(test_data)"
   ]
  },
  {
   "cell_type": "code",
   "execution_count": 23,
   "id": "e08e9556",
   "metadata": {},
   "outputs": [
    {
     "name": "stdout",
     "output_type": "stream",
     "text": [
      "test loss : 0.0367 , test_accuracy : 99.0100\n"
     ]
    }
   ],
   "source": [
    "print(f\"test loss : {test_loss:.4f} , test_accuracy : {test_accuracy*100 :.4f}\")"
   ]
  },
  {
   "cell_type": "markdown",
   "id": "d1abc4fc",
   "metadata": {},
   "source": [
    "# plotting images and results"
   ]
  },
  {
   "cell_type": "code",
   "execution_count": 24,
   "id": "8c460f88",
   "metadata": {},
   "outputs": [],
   "source": [
    "import numpy as np \n",
    "import matplotlib.pyplot as plt\n",
    "%matplotlib inline"
   ]
  },
  {
   "cell_type": "code",
   "execution_count": 25,
   "id": "0106afe0",
   "metadata": {},
   "outputs": [],
   "source": [
    "# Split the test_data into 2 arrays, containing the images and the corresponding labels\n",
    "for images, labels in test_data.take(1):\n",
    "    images_test = images.numpy()\n",
    "    labels_test = labels.numpy()\n",
    "\n",
    "# Reshape the images into 28x28 form, suitable for matplotlib (original dimensions: 28x28x1)\n",
    "images_plot = np.reshape(images_test, (128,28,28))"
   ]
  },
  {
   "cell_type": "code",
   "execution_count": 27,
   "id": "7c891ce0",
   "metadata": {},
   "outputs": [
    {
     "data": {
      "text/plain": [
       "<matplotlib.image.AxesImage at 0x19d53916280>"
      ]
     },
     "execution_count": 27,
     "metadata": {},
     "output_type": "execute_result"
    },
    {
     "data": {
      "image/png": "[encoded data removed]",
      "text/plain": [
       "<Figure size 144x144 with 1 Axes>"
      ]
     },
     "metadata": {
      "needs_background": "light"
     },
     "output_type": "display_data"
    }
   ],
   "source": [
    "#the image to be displayed and tested\n",
    "i = 55\n",
    "\n",
    "plt.figure(figsize=(2,2))\n",
    "plt.axis('off')\n",
    "plt.imshow(images_plot[i-1] ,cmap = \"gray\" , aspect = 'auto')\n"
   ]
  },
  {
   "cell_type": "code",
   "execution_count": 28,
   "id": "35f9c58a",
   "metadata": {},
   "outputs": [
    {
     "data": {
      "text/plain": [
       "<BarContainer object of 10 artists>"
      ]
     },
     "execution_count": 28,
     "metadata": {},
     "output_type": "execute_result"
    },
    {
     "data": {
      "image/png": "[encoded data removed]",
      "text/plain": [
       "<Figure size 864x360 with 1 Axes>"
      ]
     },
     "metadata": {
      "needs_background": "light"
     },
     "output_type": "display_data"
    }
   ],
   "source": [
    "# Obtain the model's predictions (logits)\n",
    "predictions = model.predict(images_test[i-1:i])\n",
    "\n",
    "# Convert those predictions into probabilities (recall that we incorporated the softmaxt activation into the loss function)\n",
    "probabilities = tf.nn.softmax(predictions).numpy()\n",
    "# Convert the probabilities into percentages\n",
    "probabilities = probabilities*100\n",
    "\n",
    "\n",
    "# Create a bar chart to plot the probabilities for each class\n",
    "plt.figure(figsize=(12,5))\n",
    "plt.bar(x=[1,2,3,4,5,6,7,8,9,10], height=probabilities[0], tick_label=[\"0\",\"1\",\"2\",\"3\",\"4\",\"5\",\"6\",\"7\",\"8\",\"9\"])"
   ]
  },
  {
   "cell_type": "code",
   "execution_count": null,
   "id": "7d4acc50",
   "metadata": {},
   "outputs": [],
   "source": []
  }
 ],
 "metadata": {
  "kernelspec": {
   "display_name": "Python 3 (ipykernel)",
   "language": "python",
   "name": "python3"
  },
  "language_info": {
   "codemirror_mode": {
    "name": "ipython",
    "version": 3
   },
   "file_extension": ".py",
   "mimetype": "text/x-python",
   "name": "python",
   "nbconvert_exporter": "python",
   "pygments_lexer": "ipython3",
   "version": "3.8.13"
  }
 },
 "nbformat": 4,
 "nbformat_minor": 5
}
